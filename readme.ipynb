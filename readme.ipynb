{
 "cells": [
  {
   "cell_type": "markdown",
   "metadata": {},
   "source": [
    "# Building an Interface for Crossref Event Data\n",
    "\n",
    "Hassan Bachir, Mitchell Fenner, Mohammad Riyadh, Ponnila Sampath Kumar, Dr. Timothy Bowman \n",
    "\n",
    "## Overview\n",
    "The goal of this project is to create a dashboard-style interface that displays activity and engagement surrounding scientific publications.  \n",
    "\n",
    "[Crossref](https://www.crossref.org/) is an official agency responsible for assigning DOIs (Document Object Identifier) to published papers. Their API provides a substantial amount of data, which is used to create dashboards such as Google Scholar, Web of Science, and Scopus. Due to differences between platforms, h-index, i10-index, and citation counts vary depending on which site you use.  \n",
    "\n",
    "We will work to create a web interface that organizes, simplifies, and visualizes this data. Our web interface will also rank authors in a consistent, and well documented way to facilitate bibliometric and altmetric research.\n",
    "\n",
    "## Dependencies\n",
    "Python Modules (These may be installed with `pip install <name of module>`\n",
    "* schedule\n",
    "* crossrefapi\n",
    "\n",
    "## Acknowledgements\n",
    "We would like to thank:  \n",
    "* Dr. Timothy Bowman for the project idea and guidance! 💡  \n",
    "* Minh Nguyen for assisting us with technical questions 💬 \n"
   ]
  }
 ],
 "metadata": {
  "kernelspec": {
   "display_name": "Python 3",
   "language": "python",
   "name": "python3"
  },
  "language_info": {
   "codemirror_mode": {
    "name": "ipython",
    "version": 3
   },
   "file_extension": ".py",
   "mimetype": "text/x-python",
   "name": "python",
   "nbconvert_exporter": "python",
   "pygments_lexer": "ipython3",
   "version": "3.8.5"
  }
 },
 "nbformat": 4,
 "nbformat_minor": 1
}