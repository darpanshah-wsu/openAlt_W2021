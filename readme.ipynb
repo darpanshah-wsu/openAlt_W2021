{
 "cells": [
  {
   "cell_type": "markdown",
   "metadata": {},
   "source": [
    "# Building an Interface for Crossref Event Data\n",
    "\n",
    "Hassan Bachir, Mitchell Fenner, Mohammad Riyadh, Ponnila Sampath Kumar, Dr. Timothy Bowman \n",
    "\n",
    "## Overview\n",
    "The goal of this project is to create a dashboard-style interface that displays activity and engagement surrounding scientific publications.  \n",
    "\n",
    "[Crossref](https://www.crossref.org/) is an official agency responsible for assigning DOIs (Document Object Identifier) to published papers. Their API provides a substantial amount of data, which is used to create dashboards such as Google Scholar, Web of Science, and Scopus. Due to differences between platforms, h-index, i10-index, and citation counts vary depending on which site you use.  \n",
    "\n",
    "We will work to create a web interface that organizes, simplifies, and visualizes this data. Our web interface will also rank authors in a consistent, and well documented way to facilitate bibliometric and altmetric research.\n",
    "\n",
    "## How it works\n",
    "### Collecting and organizing the Events\n",
    "The Python script `pythonScripts/tapAPI.py` pulls down data on a regular schedule from the crossref API. This data is stored as a dated JSON file, each file containing 10,000 Events.\n",
    "These files are then ingested into the database by `pythonScripts/Ingest/main.py`. Which reads each JSON in the data directory, and inserts it into our MySQL database.  \n",
    "Because the Events do not contain the authors, journal, or article title for every DOI, we are developing more scripts to fetch that data from crossref based on the gaps in our database.\n",
    "### The website\n",
    "We are developing a website which will allow users to search our database for DOI's, authors, article titles, or journals. Users will be able to see how many Events, and of which type, a given article or author has generated.\n",
    "\n",
    "## Dependencies and their Licenses\n",
    "\n",
    "| Software                        | License                            |\n",
    "|:--------------------------------|:-----------------------------------|\n",
    "| MySQL 8.0.21                    | GPL-2.0 License                    |\n",
    "| MySQL Python Connector 8.0.21   | GPL-2.0 License                    |\n",
    "| Python 3.8                      | Python Software Foundation License |\n",
    "| Bootstrap 3.3.7                 | MIT License                        |\n",
    "\n",
    "\n",
    "| Python Module             | License                    |\n",
    "|:--------------------------|:---------------------------|\n",
    "| schedule                  | MIT License                |\n",
    "| crossrefapi               | BSD-2-Clause License       |\n",
    "| mysql-connector-python    | GPL-2.0 License            |\n",
    "| flask                     | BSD-3-Clause License       |\n",
    "| flask-mysqldb             | MIT License                |\n",
    "| virtualenv                | MIT License                |\n",
    "\n",
    "## Acknowledgements\n",
    "We would like to thank:  \n",
    "* Dr. Timothy Bowman for the project idea and guidance! 💡  \n",
    "* Minh Nguyen for assisting us with technical questions 💬 \n",
    "* Seyed Ziae Mousavi Mojab for teaching the class, of which this project was a part 🍎\n"
   ]
  }
 ],
 "metadata": {
  "kernelspec": {
   "display_name": "Python 3",
   "language": "python",
   "name": "python3"
  },
  "language_info": {
   "codemirror_mode": {
    "name": "ipython",
    "version": 3
   },
   "file_extension": ".py",
   "mimetype": "text/x-python",
   "name": "python",
   "nbconvert_exporter": "python",
   "pygments_lexer": "ipython3",
   "version": "3.8.6"
  }
 },
 "nbformat": 4,
 "nbformat_minor": 1
}
