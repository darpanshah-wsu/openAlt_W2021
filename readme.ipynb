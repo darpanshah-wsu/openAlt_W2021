{
 "cells": [
  {
   "cell_type": "markdown",
   "metadata": {},
   "source": [
    "# Building an Interface for Crossref Event Data\n",
    "\n",
    "Hassan Bachir, Mitchell Fenner, Mohammad Riyadh, Ponnila Sampath Kumar, Dr. Timothy Bowman \n",
    "\n",
    "## Overview\n",
    "\n",
    "\n",
    "## Dependencies\n",
    "\n",
    "\n",
    "## Acknowledgements\n",
    "\n"
   ]
  }
 ],
 "metadata": {
  "kernelspec": {
   "display_name": "Python 3",
   "language": "python",
   "name": "python3"
  },
  "language_info": {
   "codemirror_mode": {
    "name": "ipython",
    "version": 3
   },
   "file_extension": ".py",
   "mimetype": "text/x-python",
   "name": "python",
   "nbconvert_exporter": "python",
   "pygments_lexer": "ipython3",
   "version": "3.8.5"
  }
 },
 "nbformat": 4,
 "nbformat_minor": 1
}
